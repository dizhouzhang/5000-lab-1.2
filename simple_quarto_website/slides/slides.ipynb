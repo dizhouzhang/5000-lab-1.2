{
 "cells": [
  {
   "cell_type": "markdown",
   "metadata": {},
   "source": [
    "---\n",
    "title: \"Hobbies\"\n",
    "author: \"Joe Zhang\"\n",
    "format: revealjs\n",
    "bibliography: reference.bib\n",
    "---\n",
    "\n",
    "## Getting up\n",
    "\n",
    "@van2016data says their code\n",
    "\n",
    "\n",
    "- Turn off alarm\n",
    "- Get out of bed\n",
    "\n",
    "## Going to class\n",
    "\n",
    "- Get in class\n",
    "- leave class\n",
    "\n",
    "## Going to sleep\n",
    "\n",
    "- Get in bed\n",
    "- Count sheep\n"
   ]
  },
  {
   "cell_type": "code",
   "execution_count": 5,
   "metadata": {},
   "outputs": [
    {
     "data": {
      "text/plain": [
       "12"
      ]
     },
     "execution_count": 5,
     "metadata": {},
     "output_type": "execute_result"
    }
   ],
   "source": [
    "#| echo: true\n",
    "#| code-fold: true\n",
    "# comment\n",
    "11+1"
   ]
  },
  {
   "cell_type": "markdown",
   "metadata": {},
   "source": [
    "![](2023-09-14-15-36-34.png)"
   ]
  }
 ],
 "metadata": {
  "kernelspec": {
   "display_name": "Python 3.9.0 64-bit",
   "language": "python",
   "name": "python3"
  },
  "language_info": {
   "codemirror_mode": {
    "name": "ipython",
    "version": 3
   },
   "file_extension": ".py",
   "mimetype": "text/x-python",
   "name": "python",
   "nbconvert_exporter": "python",
   "pygments_lexer": "ipython3",
   "version": "3.9.0"
  },
  "orig_nbformat": 4,
  "vscode": {
   "interpreter": {
    "hash": "aee8b7b246df8f9039afb4144a1f6fd8d2ca17a180786b69acc140d282b71a49"
   }
  }
 },
 "nbformat": 4,
 "nbformat_minor": 2
}
