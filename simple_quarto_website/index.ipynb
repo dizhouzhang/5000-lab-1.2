{
  "cells": [
    {
      "cell_type": "raw",
      "metadata": {},
      "source": [
        "---\n",
        "title: \"simple_quarto_website\"\n",
        "---"
      ]
    },
    {
      "cell_type": "markdown",
      "metadata": {},
      "source": [
        "Lorem ipsum dolor sit amet, consectetur adipiscing elit, sed do eiusmod tempor incididunt ut labore et dolore magna aliqua. Integer eget aliquet nibh praesent tristique magna sit amet purus. Eget lorem dolor sed viverra ipsum nunc aliquet bibendum enim. Justo nec ultrices dui sapien eget mi proin sed. Elementum facilisis leo vel fringilla est ullamcorper. Id diam vel quam elementum pulvinar. Pellentesque diam volutpat commodo sed. Cursus metus aliquam eleifend mi in nulla posuere sollicitudin. Sit amet mauris commodo quis imperdiet massa. Hac habitasse platea dictumst vestibulum rhoncus est pellentesque elit ullamcorper. Magna fermentum iaculis eu non diam phasellus. In aliquam sem fringilla ut morbi. Dictum varius duis at consectetur lorem donec massa. Sollicitudin aliquam ultrices sagittis orci.[^note1]\n",
        "\n",
        "Id porta nibh venenatis cras sed felis eget. Massa vitae tortor condimentum lacinia quis vel eros donec ac. In cursus turpis massa tincidunt dui ut ornare lectus. Massa sed elementum tempus egestas sed sed risus. Nec ultrices dui sapien eget mi proin. Blandit massa enim nec dui nunc. Purus ut faucibus pulvinar elementum integer enim neque volutpat ac. Dignissim cras tincidunt lobortis feugiat vivamus. Non quam lacus suspendisse faucibus interdum posuere. Cras tincidunt lobortis feugiat vivamus. Enim blandit volutpat maecenas volutpat. Cum sociis natoque penatibus et magnis dis parturient montes nascetur. Risus pretium quam vulputate dignissim suspendisse. Varius sit amet mattis vulputate enim nulla aliquet porttitor lacus.[^note2]\n",
        "\n",
        "Nunc sed id semper risus in hendrerit gravida rutrum. Ultrices dui sapien eget mi proin sed libero enim. Turpis egestas sed tempus urna et pharetra pharetra massa massa. Viverra accumsan in nisl nisi scelerisque eu ultrices vitae auctor. Fusce id velit ut tortor pretium viverra suspendisse potenti. Orci eu lobortis elementum nibh tellus molestie. Suscipit tellus mauris a diam maecenas sed enim. Sed turpis tincidunt id aliquet risus feugiat in ante metus. At augue eget arcu dictum varius duis. Massa ultricies mi quis hendrerit dolor magna eget. Sapien eget mi proin sed libero enim sed faucibus. Pretium nibh ipsum consequat nisl vel pretium lectus quam. Proin sagittis nisl rhoncus mattis rhoncus. In dictum non consectetur a. Sed adipiscing diam donec adipiscing tristique risus nec feugiat in. [^note3]\n",
        "\n",
        "\n",
        "[^note1]: this is note1\n",
        "[^note2]: this is note2\n",
        "[^note3]: @book{van2016data,\n",
        "  title={Data science in action},\n",
        "  author={Van Der Aalst, Wil and van der Aalst, Wil},\n",
        "  year={2016},\n",
        "  publisher={Springer}\n",
        "}"
      ]
    },
    {
      "cell_type": "markdown",
      "metadata": {},
      "source": [
        "* This is an example of a bulleted list with math \n",
        "* Here is an in-line math equation $f(x)=\\frac{e^{x^2}}{2}$\n",
        "\n",
        "$$g(x)=x^n \\rightarrow \\frac{\\partial g}{\\partial x}=n x^{n-1}$$"
      ]
    },
    {
      "cell_type": "markdown",
      "metadata": {},
      "source": [
        "{{< video https://www.youtube.com/watch?v=qhrAhHHe7Ik width=“800” height=“500” >}}\n",
        "\n",
        "![](2023-09-12-22-03-17.png)\n",
        "![](2023-09-12-22-04-26.png)\n",
        "\n",
        "| Right | Left | Default | Center |\n",
        "|------:|:-----|---------|:------:|\n",
        "|   12  |  12  |    12   |    12  |\n",
        "|  123  |  123 |   123   |   123  |\n",
        "|    1  |    1 |     1   |     1  |\n"
      ]
    },
    {
      "cell_type": "markdown",
      "metadata": {},
      "source": [
        "‘> This is a metro map’\n",
        "\n",
        "```{mermaid}\n",
        "%%| fig-cap: \"A Mermaid diagram\"\n",
        "%%| code-fold: false\n",
        "flowchart LR\n",
        "  A[crystal city] --> B(pentagon city)\n",
        "  B --> C{pentagon}\n",
        "  C --> D[Arlington cemetry]\n",
        "  C --> E[Rosslyn]\n",
        "```"
      ]
    },
    {
      "cell_type": "markdown",
      "metadata": {},
      "source": []
    }
  ],
  "metadata": {
    "kernelspec": {
      "display_name": "Python 3.9.0 64-bit",
      "language": "python",
      "name": "python3"
    },
    "language_info": {
      "name": "python",
      "version": "3.9.0"
    },
    "vscode": {
      "interpreter": {
        "hash": "aee8b7b246df8f9039afb4144a1f6fd8d2ca17a180786b69acc140d282b71a49"
      }
    }
  },
  "nbformat": 4,
  "nbformat_minor": 4
}
